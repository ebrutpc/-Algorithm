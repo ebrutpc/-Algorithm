{
  "nbformat": 4,
  "nbformat_minor": 0,
  "metadata": {
    "colab": {
      "name": "Deeplearning.ipynb",
      "provenance": [],
      "collapsed_sections": [],
      "authorship_tag": "ABX9TyNhNf5d9XsvxLorgBud7a3a",
      "include_colab_link": true
    },
    "kernelspec": {
      "name": "python3",
      "display_name": "Python 3"
    }
  },
  "cells": [
    {
      "cell_type": "markdown",
      "metadata": {
        "id": "view-in-github",
        "colab_type": "text"
      },
      "source": [
        "<a href=\"https://colab.research.google.com/github/ebrutpc/-Algorithm/blob/master/Deeplearning.ipynb\" target=\"_parent\"><img src=\"https://colab.research.google.com/assets/colab-badge.svg\" alt=\"Open In Colab\"/></a>"
      ]
    },
    {
      "cell_type": "markdown",
      "metadata": {
        "id": "tUbB2L3iAg1T"
      },
      "source": [
        "Mnist veri seti keras üzerinden Numpy dizileri şeklinde yüklü olarak gelmektedir.\n",
        "10 kategorite ayrılmış (0-9) elle yazılmış rakamlardan oluşan siyah-beyaz(28 X 28) görüntü sınıflandırma problemi."
      ]
    },
    {
      "cell_type": "code",
      "metadata": {
        "id": "vQoMgjDY_zaM"
      },
      "source": [
        "from keras.datasets import mnist\n",
        "(train_images,train_labels),(test_images,test_label)=mnist.load_data()"
      ],
      "execution_count": 34,
      "outputs": []
    },
    {
      "cell_type": "markdown",
      "metadata": {
        "id": "ojTbfO_A-u41"
      },
      "source": [
        "**Ağ Mimarisi**\n",
        "\n",
        "Önce sinir ağımızı eğitim verisetimiz ile besleyeceğiz ki ağımız görüntüler ile etiketleri eşleştirmeyi öğrenecek.\n",
        "Sonra test_images için ağımız tahminler üretip son olarak test_labels ile ağızımın ürettiği sonuçların aynı olup olmadığını kontrol edeceğiz."
      ]
    },
    {
      "cell_type": "code",
      "metadata": {
        "id": "rkdO0bA5-ttK"
      },
      "source": [
        "from keras import models\n",
        "from keras import layers"
      ],
      "execution_count": 35,
      "outputs": []
    },
    {
      "cell_type": "code",
      "metadata": {
        "id": "iRAamRwJ-_3I"
      },
      "source": [
        "network=models.Sequential()\n",
        "network.add(layers.Dense(521,activation='relu',input_shape=(28*28,)))\n",
        "network.add(layers.Dense(10,activation='softmax'))"
      ],
      "execution_count": 36,
      "outputs": []
    },
    {
      "cell_type": "markdown",
      "metadata": {
        "id": "eLjrYa0DCBJX"
      },
      "source": [
        "Derin öğrenme temel yapı taşı,veri için filtre olarak düşünülebilecek veri işleme modülü olan *katmanlardır*.\n",
        "Veri katmana ham hali ile girer ve daha kullanışlı formda çıkar.\n",
        "Katmanlar kedisini besleyen verilerden problemin çözümünde yardımcı olacak daha anlamlı *gösterimler* çıkarır.\n",
        "Modelimiz birbirini takip eden 2 *Dense* katmanından oluşmakta.(fully connected)"
      ]
    },
    {
      "cell_type": "markdown",
      "metadata": {
        "id": "saf38hixCvkV"
      },
      "source": [
        "**Derleme Adımı**"
      ]
    },
    {
      "cell_type": "code",
      "metadata": {
        "id": "28NsaM6HADmE"
      },
      "source": [
        "network.compile(optimizer='rmsprop',loss='categorical_crossentropy',metrics=['accuracy'])"
      ],
      "execution_count": 37,
      "outputs": []
    },
    {
      "cell_type": "markdown",
      "metadata": {
        "id": "838yVts6DVqW"
      },
      "source": [
        "**Girdilerin Hızlandırılması**\n",
        "Eğitime başlamadan önce tüm girdileri [0-1] aralığında ölçeklendiriyoruz.\n",
        "Bu aşamadan önce eğitim veri setimizdeki görüntüler (6000,28,28) şeklinde bir dizide ve her bir eleman *unint8* veri tipinde [0-255] veri aralığında saklanmıştır.Eğitim veri setindeki görüntüleri (60000,28,28) *float32* veri tipinde 0 ile 1 arasında olacak şekilde ayarlıyoruz"
      ]
    },
    {
      "cell_type": "code",
      "metadata": {
        "id": "B98izmYg_zBk"
      },
      "source": [
        "train_images=train_images.reshape((60000,28*28))\n",
        "train_images=train_images.astype('float32')/255\n",
        "test_images=test_images.reshape((10000,28*28))\n",
        "test_images=test_images.astype('float32')/255\n"
      ],
      "execution_count": 38,
      "outputs": []
    },
    {
      "cell_type": "markdown",
      "metadata": {
        "id": "Hh0cKID2FfHH"
      },
      "source": [
        "Etiketleri de kategorik olarak etiketlememiz gerekir\n"
      ]
    },
    {
      "cell_type": "code",
      "metadata": {
        "id": "Zx2uHsa2FIEd"
      },
      "source": [
        "from keras.utils import to_categorical\n",
        "\n",
        "train_labels=to_categorical(train_labels)\n",
        "test_label=to_categorical(test_label)"
      ],
      "execution_count": 39,
      "outputs": []
    },
    {
      "cell_type": "markdown",
      "metadata": {
        "id": "g8fb_ycpFcXg"
      },
      "source": [
        "Artık eğitime başlayabiliriz.Bunun için Keras'ın fit methodunu çağırarak modelimizi eğitim veri setine uyduruyoruz."
      ]
    },
    {
      "cell_type": "code",
      "metadata": {
        "id": "4-gdCScdF0d7",
        "outputId": "ad2fa16f-764a-44e1-b58f-cd8b62df221e",
        "colab": {
          "base_uri": "https://localhost:8080/",
          "height": 202
        }
      },
      "source": [
        "network.fit(train_images,train_labels,epochs=5,batch_size=128)"
      ],
      "execution_count": 41,
      "outputs": [
        {
          "output_type": "stream",
          "text": [
            "Epoch 1/5\n",
            "469/469 [==============================] - 4s 9ms/step - loss: 0.0684 - accuracy: 0.9797\n",
            "Epoch 2/5\n",
            "469/469 [==============================] - 4s 9ms/step - loss: 0.0496 - accuracy: 0.9850\n",
            "Epoch 3/5\n",
            "469/469 [==============================] - 4s 9ms/step - loss: 0.0372 - accuracy: 0.9886\n",
            "Epoch 4/5\n",
            "469/469 [==============================] - 4s 10ms/step - loss: 0.0288 - accuracy: 0.9916\n",
            "Epoch 5/5\n",
            "469/469 [==============================] - 4s 10ms/step - loss: 0.0222 - accuracy: 0.9931\n"
          ],
          "name": "stdout"
        },
        {
          "output_type": "execute_result",
          "data": {
            "text/plain": [
              "<tensorflow.python.keras.callbacks.History at 0x7f57d92d9f28>"
            ]
          },
          "metadata": {
            "tags": []
          },
          "execution_count": 41
        }
      ]
    },
    {
      "cell_type": "code",
      "metadata": {
        "id": "GzhJiSubHZYL",
        "outputId": "1d34413a-ef4c-42ec-fea9-43b2292dc481",
        "colab": {
          "base_uri": "https://localhost:8080/",
          "height": 34
        }
      },
      "source": [
        "test_loss,test_acc=network.evaluate(test_images,test_label)"
      ],
      "execution_count": 42,
      "outputs": [
        {
          "output_type": "stream",
          "text": [
            "313/313 [==============================] - 1s 2ms/step - loss: 0.0662 - accuracy: 0.9814\n"
          ],
          "name": "stdout"
        }
      ]
    },
    {
      "cell_type": "code",
      "metadata": {
        "id": "wgw-tezAHlGl",
        "outputId": "26c99131-1b89-4c1a-ef4a-34d1baefce55",
        "colab": {
          "base_uri": "https://localhost:8080/",
          "height": 34
        }
      },
      "source": [
        "print('test_acc',test_acc)"
      ],
      "execution_count": 43,
      "outputs": [
        {
          "output_type": "stream",
          "text": [
            "test_acc 0.9814000129699707\n"
          ],
          "name": "stdout"
        }
      ]
    }
  ]
}